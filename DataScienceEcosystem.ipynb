{
 "cells": [
  {
   "cell_type": "markdown",
   "id": "c6803346-f073-49f7-a5c7-fce6e7bb2779",
   "metadata": {},
   "source": [
    "# Data Science Tools and Ecosystem"
   ]
  },
  {
   "cell_type": "markdown",
   "id": "7d791bfa-d650-4702-929b-0e0f5132a35a",
   "metadata": {},
   "source": [
    "## In this notebook, Data Science Tools and Ecosystem are summarized."
   ]
  },
  {
   "cell_type": "markdown",
   "id": "66a4de96-f71e-4416-8a6a-dbddd548dfc9",
   "metadata": {},
   "source": [
    "**Objectives:**\n",
    "- Python\n",
    "- R\n",
    "- SQL"
   ]
  },
  {
   "cell_type": "markdown",
   "id": "636e3346-72af-4c22-9d63-8b8ed18ade35",
   "metadata": {},
   "source": [
    "### Some of the popular languages that Data Scientists use are:"
   ]
  },
  {
   "cell_type": "markdown",
   "id": "ed571fbc-76b3-4840-a18c-0092b78c4611",
   "metadata": {},
   "source": [
    "#### _1. Python_ \n",
    "#### _2. R_\n",
    "#### _3. SQL_"
   ]
  },
  {
   "cell_type": "markdown",
   "id": "64c9b10a-608b-42b1-adff-f01982e79bcd",
   "metadata": {},
   "source": [
    "### Some of the commonly used libraries used by Data Scientists include:"
   ]
  },
  {
   "cell_type": "markdown",
   "id": "c565bdc3-bb9b-44fe-a781-789c0c23b555",
   "metadata": {},
   "source": [
    "#### _1. NumPy_\n",
    "#### _2. Pandas_\n",
    "#### _3. SciPy_\n",
    "#### _4. Matplotlib_"
   ]
  },
  {
   "cell_type": "markdown",
   "id": "9a6e652f-7ea3-45fc-8bf4-50a3e96eda14",
   "metadata": {},
   "source": [
    "|*Data Science Tools*|\n",
    "|:------------------:|\n",
    "|Jupyter Notebook |\n",
    "|R Studio         |\n",
    "|Power BI         |\n",
    "|Anaconda         |"
   ]
  },
  {
   "cell_type": "markdown",
   "id": "fffd7746-d1df-41da-bcbc-63998045d213",
   "metadata": {},
   "source": [
    "### Below are a few examples of evaluating arithmetic expressions in Python"
   ]
  },
  {
   "cell_type": "code",
   "execution_count": 7,
   "id": "b962a076-f992-4fae-b552-2b26ff1a13aa",
   "metadata": {},
   "outputs": [
    {
     "data": {
      "text/plain": [
       "17"
      ]
     },
     "execution_count": 7,
     "metadata": {},
     "output_type": "execute_result"
    }
   ],
   "source": [
    "#This a simple arithmetic expression to mutiply then add integers\n",
    "(3*4)+5"
   ]
  },
  {
   "cell_type": "code",
   "execution_count": 19,
   "id": "e5372339-77db-4e98-8e41-81951603af50",
   "metadata": {},
   "outputs": [
    {
     "name": "stdout",
     "output_type": "stream",
     "text": [
      "3.3333333333333335 hours\n"
     ]
    }
   ],
   "source": [
    "#This will convert 200 minutes to hours by diving by 60\n",
    "x = 200/60\n",
    "print(f\"{x} hours\")"
   ]
  },
  {
   "cell_type": "markdown",
   "id": "147006e9-6dc2-4f9c-84f3-ade0c7451c34",
   "metadata": {},
   "source": [
    "## Author\n",
    "Roman Dumych"
   ]
  },
  {
   "cell_type": "code",
   "execution_count": null,
   "id": "6991d64c-c58b-44e4-9795-7b7bc184ec39",
   "metadata": {},
   "outputs": [],
   "source": []
  }
 ],
 "metadata": {
  "kernelspec": {
   "display_name": "Python 3 (ipykernel)",
   "language": "python",
   "name": "python3"
  },
  "language_info": {
   "codemirror_mode": {
    "name": "ipython",
    "version": 3
   },
   "file_extension": ".py",
   "mimetype": "text/x-python",
   "name": "python",
   "nbconvert_exporter": "python",
   "pygments_lexer": "ipython3",
   "version": "3.12.7"
  }
 },
 "nbformat": 4,
 "nbformat_minor": 5
}
